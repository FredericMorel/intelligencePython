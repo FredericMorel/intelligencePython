{
 "cells": [
  {
   "cell_type": "code",
   "execution_count": 79,
   "metadata": {},
   "outputs": [],
   "source": [
    "import numpy as np \n",
    "from tqdm import tqdm\n",
    "import matplotlib.pyplot as plt \n",
    "\n",
    "\n"
   ]
  },
  {
   "cell_type": "code",
   "execution_count": 80,
   "metadata": {},
   "outputs": [],
   "source": [
    "x_enter = np.array(([3, 1.5],[2,1],[4,1.5],[3,1],[3.5,0.5], [2, 0.5],[5.5,1],[1,1],[4,1.5]),dtype=float) # données d'entrer\n",
    "\n",
    "# données de sortie / 1 = rouge / 0 = bleu\n",
    "y = np.array(([1],[0],[1],[0],[1],[0],[1],[0]),dtype=float) # Les résultats attendus à la sortie\n",
    "\n",
    "x_enter = x_enter/np.amax(x_enter, axis=0) # récupère 8 premiers éléments\n",
    "\n",
    "x=np.split(x_enter,[8])[0] # normalisation des données d'entrée\n",
    "\n",
    "xPrediction = np.split(x_enter,[8])[1]\n",
    "\n"
   ]
  },
  {
   "cell_type": "code",
   "execution_count": 81,
   "metadata": {},
   "outputs": [],
   "source": [
    "class Neural_Network(object):\n",
    "    def __init__(self):\n",
    "        self.inputsize = 2\n",
    "        self.outputsize = 1\n",
    "        self.hiddensize = 3\n",
    "        self.loos=[]\n",
    "        \n",
    "        self.W1 = np.random.randn(self.inputsize, self.hiddensize)\n",
    "        self.W2 = np.random.randn(self.hiddensize,self.outputsize)\n",
    "\n",
    "    \n",
    "    def forward(self, X):\n",
    "        self.z = np.dot(X, self.W1)\n",
    "        self.z2 = self.sigmoid(self.z)\n",
    "        self.z3 = np.dot(self.z2, self.W2)\n",
    "        o = self.sigmoid(self.z3)\n",
    "        return o\n",
    "    \n",
    "    def sigmoid(self, s):\n",
    "        return 1/(1+np.exp(-s))\n",
    "\n",
    "    def sigmoidPrime(self, s):\n",
    "        return s*(1-s)\n",
    "\n",
    "    def backward(self, X, y, o):\n",
    "        self.o_error =  y - o \n",
    "        self.o_delta = self.o_error*self.sigmoidPrime(o)\n",
    "\n",
    "        self.z2_error = self.o_delta.dot(self.W2.T)\n",
    "        self.z2_delta = self.z2_error*self.sigmoidPrime(self.z2)\n",
    "\n",
    "        self.W1 += X.T.dot(self.z2_delta)\n",
    "        self.W2 += self.z2.T.dot(self.o_delta)\n",
    "\n",
    "    def log_loss(self, y_true, y_pred):\n",
    "        epsilon = 1e-15\n",
    "        return 1/len(y_true) * np.sum(-y_true * np.log(y_pred + epsilon) - (1 -y_true) * np.log(1 - y_pred  + epsilon))\n",
    "    \n",
    "    def train(self, X, y, iterations):\n",
    "        for i in tqdm(range(iterations)):\n",
    "            o = self.forward(X)\n",
    "            if(i%10==0):\n",
    "                Loos = self.log_loss(y, o)\n",
    "                self.loos.append(Loos)\n",
    "            self.backward(X, y, o)\n"
   ]
  },
  {
   "cell_type": "code",
   "execution_count": 82,
   "metadata": {},
   "outputs": [
    {
     "name": "stderr",
     "output_type": "stream",
     "text": [
      "100%|██████████| 9000/9000 [00:00<00:00, 20525.70it/s]\n"
     ]
    },
    {
     "data": {
      "image/png": "[encoded data removed]",
      "text/plain": [
       "<Figure size 432x288 with 1 Axes>"
      ]
     },
     "metadata": {
      "needs_background": "light"
     },
     "output_type": "display_data"
    },
    {
     "data": {
      "image/png": "[encoded data removed]",
      "text/plain": [
       "<Figure size 432x288 with 1 Axes>"
      ]
     },
     "metadata": {
      "needs_background": "light"
     },
     "output_type": "display_data"
    },
    {
     "name": "stdout",
     "output_type": "stream",
     "text": [
      "valeur d'entrée: \n",
      "[[0.54545455 1.        ]\n",
      " [0.36363636 0.66666667]\n",
      " [0.72727273 1.        ]\n",
      " [0.54545455 0.66666667]\n",
      " [0.63636364 0.33333333]\n",
      " [0.36363636 0.33333333]\n",
      " [1.         0.66666667]\n",
      " [0.18181818 0.66666667]]\n",
      "valeur de sortie: \n",
      "[[1.]\n",
      " [0.]\n",
      " [1.]\n",
      " [0.]\n",
      " [1.]\n",
      " [0.]\n",
      " [1.]\n",
      " [0.]]\n",
      "valeur de sortie prédite: \n",
      "[[0.83]\n",
      " [0.03]\n",
      " [0.98]\n",
      " [0.67]\n",
      " [0.81]\n",
      " [0.01]\n",
      " [1.  ]\n",
      " [0.  ]]\n",
      "valeur de sortie prédite: \n",
      "[[0.98]]\n"
     ]
    }
   ],
   "source": [
    "import matplotlib.pyplot as plt \n",
    "\n",
    "NN = Neural_Network()\n",
    "\n",
    "NN.train(x,y, iterations = 9000)\n",
    "\"\"\" o = NM.forward(x)\"\"\"\n",
    "plt.scatter(x[:, 0], x[:, 1], c=y, cmap=\"RdBu\")\n",
    "plt.show()\n",
    "\n",
    "plt.plot(NN.loos)\n",
    "plt.show()\n",
    "\n",
    "\n",
    "print(\"valeur d'entrée: \\n\"+str(x))\n",
    "print(\"valeur de sortie: \\n\"+str(y))\n",
    "\n",
    "print(\"valeur de sortie prédite: \\n\"+str(np.matrix.round(NN.forward(x),decimals=2)))\n",
    "l = NN.forward(xPrediction)\n",
    "print(\"valeur de sortie prédite: \\n\"+str(np.matrix.round(l,decimals=2)))\n",
    "\n",
    "\n",
    "\n",
    "\n"
   ]
  }
 ],
 "metadata": {
  "interpreter": {
   "hash": "73e03da126b73bfff3642ec5261d56fa25c444ea595de51041687efaa60dda41"
  },
  "kernelspec": {
   "display_name": "Python 3.9.7 ('base')",
   "language": "python",
   "name": "python3"
  },
  "language_info": {
   "codemirror_mode": {
    "name": "ipython",
    "version": 3
   },
   "file_extension": ".py",
   "mimetype": "text/x-python",
   "name": "python",
   "nbconvert_exporter": "python",
   "pygments_lexer": "ipython3",
   "version": "3.9.7"
  },
  "orig_nbformat": 4
 },
 "nbformat": 4,
 "nbformat_minor": 2
}
